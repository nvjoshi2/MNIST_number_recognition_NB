{
 "cells": [
  {
   "cell_type": "code",
   "execution_count": 1,
   "metadata": {},
   "outputs": [],
   "source": [
    "#function to transform the images into workable numpy arrays\n",
    "from struct import unpack\n",
    "import gzip\n",
    "import numpy as np\n",
    "from numpy import zeros, uint8, float32\n",
    "import cv2\n",
    "\n",
    "def get_labeled_data(imagefile, labelfile):\n",
    "    \"\"\"Read input-vector (image) and target class (label, 0-9) and return\n",
    "       it as list of tuples.\n",
    "       \n",
    "    \"\"\"\n",
    "    # Open the images with gzip in read binary mode\n",
    "    images = gzip.open(imagefile, 'rb')\n",
    "    labels = gzip.open(labelfile, 'rb')\n",
    "\n",
    "    # Read the binary data\n",
    "\n",
    "    \n",
    "    # We have to get big endian unsigned int. So we need '>I'\n",
    "\n",
    "    # Get metadata for images\n",
    "    images.read(4)  # skip the magic_numbe\n",
    "    number_of_images = images.read(4)\n",
    "    number_of_images = unpack('>I', number_of_images)[0]\n",
    "    rows = images.read(4)\n",
    "    rows = unpack('>I', rows)[0]\n",
    "    cols = images.read(4)\n",
    "    cols = unpack('>I', cols)[0]\n",
    "\n",
    "    # Get metadata for labels\n",
    "    labels.read(4)  # skip the magic_number\n",
    "    N = labels.read(4)\n",
    "    N = unpack('>I', N)[0]\n",
    "\n",
    "    if number_of_images != N:\n",
    "        raise Exception('number of labels did not match the number of images')\n",
    "\n",
    "    # Get the data\n",
    "    x = zeros((N, rows, cols), dtype=float32)  # Initialize numpy array\n",
    "    y = zeros((N, 1), dtype=uint8)  # Initialize numpy array\n",
    "    for i in range(N):\n",
    "        if i % 1000 == 0:\n",
    "            print(\"i: %i\" % i)\n",
    "        for row in range(rows):\n",
    "            for col in range(cols):\n",
    "                tmp_pixel = images.read(1)  # Just a single byte\n",
    "                tmp_pixel = unpack('>B', tmp_pixel)[0]\n",
    "                x[i][row][col] = tmp_pixel\n",
    "        tmp_label = labels.read(1)\n",
    "        y[i] = unpack('>B', tmp_label)[0]\n",
    "    return (x, y)"
   ]
  },
  {
   "cell_type": "code",
   "execution_count": 2,
   "metadata": {
    "scrolled": true
   },
   "outputs": [
    {
     "name": "stdout",
     "output_type": "stream",
     "text": [
      "i: 0\n",
      "i: 1000\n",
      "i: 2000\n",
      "i: 3000\n",
      "i: 4000\n",
      "i: 5000\n",
      "i: 6000\n",
      "i: 7000\n",
      "i: 8000\n",
      "i: 9000\n",
      "i: 10000\n",
      "i: 11000\n",
      "i: 12000\n",
      "i: 13000\n",
      "i: 14000\n",
      "i: 15000\n",
      "i: 16000\n",
      "i: 17000\n",
      "i: 18000\n",
      "i: 19000\n",
      "i: 20000\n",
      "i: 21000\n",
      "i: 22000\n",
      "i: 23000\n",
      "i: 24000\n",
      "i: 25000\n",
      "i: 26000\n",
      "i: 27000\n",
      "i: 28000\n",
      "i: 29000\n",
      "i: 30000\n",
      "i: 31000\n",
      "i: 32000\n",
      "i: 33000\n",
      "i: 34000\n",
      "i: 35000\n",
      "i: 36000\n",
      "i: 37000\n",
      "i: 38000\n",
      "i: 39000\n",
      "i: 40000\n",
      "i: 41000\n",
      "i: 42000\n",
      "i: 43000\n",
      "i: 44000\n",
      "i: 45000\n",
      "i: 46000\n",
      "i: 47000\n",
      "i: 48000\n",
      "i: 49000\n",
      "i: 50000\n",
      "i: 51000\n",
      "i: 52000\n",
      "i: 53000\n",
      "i: 54000\n",
      "i: 55000\n",
      "i: 56000\n",
      "i: 57000\n",
      "i: 58000\n",
      "i: 59000\n"
     ]
    }
   ],
   "source": [
    "train_images, train_labels = get_labeled_data('files/train-images-idx3-ubyte.gz', 'files/train-labels-idx1-ubyte.gz')"
   ]
  },
  {
   "cell_type": "code",
   "execution_count": 3,
   "metadata": {
    "scrolled": false
   },
   "outputs": [
    {
     "name": "stdout",
     "output_type": "stream",
     "text": [
      "i: 0\n",
      "i: 1000\n",
      "i: 2000\n",
      "i: 3000\n",
      "i: 4000\n",
      "i: 5000\n",
      "i: 6000\n",
      "i: 7000\n",
      "i: 8000\n",
      "i: 9000\n"
     ]
    }
   ],
   "source": [
    "test_images, test_labels = get_labeled_data('files/t10k-images-idx3-ubyte.gz', 'files/t10k-labels-idx1-ubyte.gz')"
   ]
  },
  {
   "cell_type": "code",
   "execution_count": 62,
   "metadata": {},
   "outputs": [],
   "source": [
    "np.save('train_labels', train_labels)\n",
    "np.save('test_labels', test_labels)"
   ]
  },
  {
   "cell_type": "code",
   "execution_count": 4,
   "metadata": {
    "scrolled": true
   },
   "outputs": [],
   "source": [
    "#thresholding\n",
    "tim = cv2.threshold(train_images[0],127,255,cv2.THRESH_BINARY)\n",
    "train_imagesT = []\n",
    "test_imagesT = []\n",
    "for image in train_images:\n",
    "    train_imagesT.append(cv2.threshold(image, 140, 255, cv2.THRESH_BINARY)[1])\n",
    "\n",
    "for image in test_images:\n",
    "    test_imagesT.append(cv2.threshold(image, 140, 255, cv2.THRESH_BINARY)[1])\n",
    "\n"
   ]
  },
  {
   "cell_type": "code",
   "execution_count": 55,
   "metadata": {},
   "outputs": [],
   "source": [
    "#use untreated images as reference\n",
    "train_imagesFlat_untouched = []\n",
    "for image in train_imagesT:\n",
    "    train_imagesFlat_untouched.append(np.ravel(image))\n",
    "    \n",
    "test_imagesFlat_untouched = []\n",
    "for image in test_imagesT:\n",
    "    test_imagesFlat_untouched.append(np.ravel(image))"
   ]
  },
  {
   "cell_type": "code",
   "execution_count": 56,
   "metadata": {},
   "outputs": [],
   "source": [
    "df_train_untouched = pd.DataFrame(train_imagesFlat_untouched)\n",
    "df_test_untouched = pd.DataFrame(test_imagesFlat_untouched)"
   ]
  },
  {
   "cell_type": "code",
   "execution_count": 59,
   "metadata": {},
   "outputs": [],
   "source": [
    "df_train_untouched.to_pickle('train_images_untouched.pkl')\n",
    "df_test_untouched.to_pickle('test_images_untouched.pkl')"
   ]
  },
  {
   "cell_type": "code",
   "execution_count": 5,
   "metadata": {
    "scrolled": false
   },
   "outputs": [],
   "source": [
    "#crop the images to contain numbers as tightly as possible\n",
    "def crop(x):\n",
    "    length = x.shape[0]\n",
    "    done = False\n",
    "    for j in range(length):\n",
    "        for i in range(length):\n",
    "            if x[i,j] > 0:\n",
    "                x_min = j\n",
    "                done = True\n",
    "                break\n",
    "        if done == True:\n",
    "            break\n",
    "\n",
    "\n",
    "    done = False\n",
    "    for j in range(length):\n",
    "        for i in range(length):\n",
    "            if x[i,length-1 - j] > 0:\n",
    "                x_max = length-1 - j\n",
    "                done = True\n",
    "                break\n",
    "        if done == True:\n",
    "            break\n",
    "\n",
    "\n",
    "\n",
    "    done = False\n",
    "    for i in range(length):\n",
    "        for j in range(length):\n",
    "            if x[i,j] > 0:\n",
    "                y_max = i\n",
    "                done = True\n",
    "                break\n",
    "        if done == True:\n",
    "            break\n",
    "\n",
    "    done = False\n",
    "    for i in range(length):\n",
    "        for j in range(length):\n",
    "            if x[length - 1 - i, j] > 0:\n",
    "                y_min = length-1 - i\n",
    "                done = True\n",
    "                break\n",
    "        if done == True:\n",
    "            break\n",
    "\n",
    "    \n",
    "\n",
    "    x_center, y_center = int(np.round(np.mean([x_min,x_max]))), int(np.round(np.mean([y_min,y_max])))\n",
    "#     x_center, y_center = int(np.mean([x_min,x_max])), int(np.mean([y_min,y_max]))\n",
    "    \n",
    "    return x[y_max:y_min + 1,x_min:x_max + 1]"
   ]
  },
  {
   "cell_type": "code",
   "execution_count": 30,
   "metadata": {},
   "outputs": [],
   "source": [
    "train_imagesS = []\n",
    "for image in train_imagesT:\n",
    "    train_imagesS.append(crop(image))\n",
    "\n",
    "test_imagesS = []\n",
    "for image in test_imagesT:\n",
    "    test_imagesS.append(crop(image))"
   ]
  },
  {
   "cell_type": "code",
   "execution_count": 36,
   "metadata": {},
   "outputs": [],
   "source": [
    "#resize each image to a a uniform 20 x 20 pixel dimension\n",
    "train_imagesF = []\n",
    "for image in train_imagesS:\n",
    "    train_imagesF.append(cv2.resize(image,(20,20), interpolation = cv2.INTER_NEAREST))\n",
    "    \n",
    "test_imagesF = []\n",
    "for image in test_imagesS:\n",
    "    test_imagesF.append(cv2.resize(image,(20,20), interpolation = cv2.INTER_NEAREST))\n",
    "\n",
    "\n",
    "    \n"
   ]
  },
  {
   "cell_type": "code",
   "execution_count": 43,
   "metadata": {},
   "outputs": [],
   "source": [
    "#flatten images for use as features in naive bayes classifier\n",
    "train_imagesFlat=[]\n",
    "for image in train_imagesF:\n",
    "    train_imagesFlat.append(np.ravel(image))\n",
    "               \n",
    "test_imagesFlat=[]\n",
    "for image in test_imagesF:\n",
    "    test_imagesFlat.append(np.ravel(image))\n"
   ]
  },
  {
   "cell_type": "code",
   "execution_count": 51,
   "metadata": {},
   "outputs": [],
   "source": [
    "df_train_touched = pd.DataFrame(train_imagesFlat)\n",
    "df_test_touched = pd.DataFrame(test_imagesFlat)"
   ]
  },
  {
   "cell_type": "code",
   "execution_count": 60,
   "metadata": {},
   "outputs": [],
   "source": [
    "df_train_touched.to_pickle('train_images_touched.pkl')\n",
    "df_test_touched.to_pickle('test_images_touched.pkl')"
   ]
  }
 ],
 "metadata": {
  "kernelspec": {
   "display_name": "Python 3",
   "language": "python",
   "name": "python3"
  },
  "language_info": {
   "codemirror_mode": {
    "name": "ipython",
    "version": 3
   },
   "file_extension": ".py",
   "mimetype": "text/x-python",
   "name": "python",
   "nbconvert_exporter": "python",
   "pygments_lexer": "ipython3",
   "version": "3.6.5"
  }
 },
 "nbformat": 4,
 "nbformat_minor": 2
}
