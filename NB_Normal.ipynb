{
 "cells": [
  {
   "cell_type": "code",
   "execution_count": 3,
   "metadata": {},
   "outputs": [],
   "source": [
    "import numpy as np\n",
    "import pandas as pd\n",
    "\n",
    "train_labels = np.load('preprocessed_files/train_labels.npy')\n",
    "test_labels = np.load('preprocessed_files/test_labels.npy')\n",
    "\n",
    "train_images_untouched = pd.read_pickle('preprocessed_files/train_images_untouched.pkl')\n",
    "test_images_untouched = pd.read_pickle('preprocessed_files/test_images_untouched.pkl')\n",
    "\n",
    "train_images_touched = pd.read_pickle('preprocessed_files/train_images_touched.pkl')\n",
    "test_images_touched = pd.read_pickle('preprocessed_files/test_images_touched.pkl')"
   ]
  },
  {
   "cell_type": "code",
   "execution_count": 50,
   "metadata": {},
   "outputs": [],
   "source": [
    "def get_means_stds_ProbabsOfLabels(df):\n",
    "    dfs = {}\n",
    "    probs = []\n",
    "    for i in range(10):\n",
    "            dfs[\"df{0}\".format(i)] = df[train_labels == i]\n",
    "            probs.append(len(df[train_labels == i]) / len(df))\n",
    "    means = []\n",
    "    stds = []\n",
    "    for key in dfs:\n",
    "        pixels = list(dfs[key])\n",
    "        pixel_means = []\n",
    "        pixel_stds = []\n",
    "        for pixel in pixels:\n",
    "            pixel_means.append(np.mean(dfs[key][pixel]))\n",
    "            pixel_stds.append(np.std(dfs[key][pixel]))\n",
    "        means.append(pixel_means)\n",
    "        stds.append(pixel_stds)\n",
    "    return means, stds, probs\n"
   ]
  },
  {
   "cell_type": "code",
   "execution_count": 84,
   "metadata": {},
   "outputs": [],
   "source": [
    "means_untouched, stds_untouched, probs_untouched = get_means_stds_ProbabsOfLabels(train_images_untouched)\n",
    "means_touched, stds_touched, probs_touched = get_means_stds_ProbabsOfLabels(train_images_touched)"
   ]
  },
  {
   "cell_type": "code",
   "execution_count": 107,
   "metadata": {},
   "outputs": [],
   "source": [
    "means_untouched_images = []\n",
    "for flat_image in means_untouched:\n",
    "    means_untouched_images.append(np.array(flat_image).reshape(28,28))"
   ]
  },
  {
   "cell_type": "code",
   "execution_count": 126,
   "metadata": {
    "scrolled": false
   },
   "outputs": [],
   "source": [
    "from PIL import Image\n",
    "for i in range(len(means_untouched_images)):\n",
    "    im = Image.fromarray(means_untouched_images[i])\n",
    "    im = im.convert(\"L\")\n",
    "#     path=(\"image_\")\n",
    "    im.save(\"image_\" + str(i) + \".png\")\n",
    "im.save('image.bmp')"
   ]
  },
  {
   "cell_type": "code",
   "execution_count": 72,
   "metadata": {},
   "outputs": [],
   "source": [
    "def normal(xi,mean,std):\n",
    "    if std == 0:\n",
    "        return 0\n",
    "    else:\n",
    "        return 1 / (2 * np.pi * std**2)**0.5 * np.e**-((xi - mean)**2 / (2*std**2))"
   ]
  },
  {
   "cell_type": "code",
   "execution_count": 95,
   "metadata": {},
   "outputs": [],
   "source": [
    "def classifier(x,means,stds,probs):\n",
    "    total_probabilities = np.zeros(10)\n",
    "    for i in range(len(total_probabilities)):\n",
    "        total_probabilities[i] += np.log(probs[i])\n",
    "        for j in range(len(x)):\n",
    "            n = normal(x[j], means[i][j], stds[i][j])\n",
    "            if n > 0:\n",
    "                total_probabilities[i] += np.log(n)\n",
    "    return np.argmax(total_probabilities)"
   ]
  },
  {
   "cell_type": "code",
   "execution_count": 100,
   "metadata": {},
   "outputs": [
    {
     "name": "stdout",
     "output_type": "stream",
     "text": [
      "0\n",
      "1000\n",
      "2000\n",
      "3000\n",
      "4000\n",
      "5000\n",
      "6000\n",
      "7000\n",
      "8000\n",
      "9000\n",
      "10000\n",
      "11000\n",
      "12000\n",
      "13000\n",
      "14000\n",
      "15000\n",
      "16000\n",
      "17000\n",
      "18000\n",
      "19000\n",
      "20000\n",
      "21000\n",
      "22000\n",
      "23000\n",
      "24000\n",
      "25000\n",
      "26000\n",
      "27000\n",
      "28000\n",
      "29000\n",
      "30000\n",
      "31000\n",
      "32000\n",
      "33000\n",
      "34000\n",
      "35000\n",
      "36000\n",
      "37000\n",
      "38000\n",
      "39000\n",
      "40000\n",
      "41000\n",
      "42000\n",
      "43000\n",
      "44000\n",
      "45000\n",
      "46000\n",
      "47000\n",
      "48000\n",
      "49000\n",
      "50000\n",
      "51000\n",
      "52000\n",
      "53000\n",
      "54000\n",
      "55000\n",
      "56000\n",
      "57000\n",
      "58000\n",
      "59000\n"
     ]
    }
   ],
   "source": [
    "train_untouched_predictions = []\n",
    "for index, row in train_images_untouched.iterrows():\n",
    "    train_untouched_predictions.append(classifier(row, means_untouched, stds_untouched, probs_untouched))\n",
    "    if index % 1000 == 0:\n",
    "            print(index)"
   ]
  },
  {
   "cell_type": "code",
   "execution_count": 101,
   "metadata": {},
   "outputs": [
    {
     "name": "stdout",
     "output_type": "stream",
     "text": [
      "0\n",
      "1000\n",
      "2000\n",
      "3000\n",
      "4000\n",
      "5000\n",
      "6000\n",
      "7000\n",
      "8000\n",
      "9000\n",
      "10000\n",
      "11000\n",
      "12000\n",
      "13000\n",
      "14000\n",
      "15000\n",
      "16000\n",
      "17000\n",
      "18000\n",
      "19000\n",
      "20000\n",
      "21000\n",
      "22000\n",
      "23000\n",
      "24000\n",
      "25000\n",
      "26000\n",
      "27000\n",
      "28000\n",
      "29000\n",
      "30000\n",
      "31000\n",
      "32000\n",
      "33000\n",
      "34000\n",
      "35000\n",
      "36000\n",
      "37000\n",
      "38000\n",
      "39000\n",
      "40000\n",
      "41000\n",
      "42000\n",
      "43000\n",
      "44000\n",
      "45000\n",
      "46000\n",
      "47000\n",
      "48000\n",
      "49000\n",
      "50000\n",
      "51000\n",
      "52000\n",
      "53000\n",
      "54000\n",
      "55000\n",
      "56000\n",
      "57000\n",
      "58000\n",
      "59000\n"
     ]
    }
   ],
   "source": [
    "train_touched_predictions = []\n",
    "for index, row in train_images_touched.iterrows():\n",
    "    train_touched_predictions.append(classifier(row, means_touched, stds_touched, probs_touched))\n",
    "    if index % 1000 == 0:\n",
    "            print(index)"
   ]
  },
  {
   "cell_type": "code",
   "execution_count": 92,
   "metadata": {
    "scrolled": false
   },
   "outputs": [
    {
     "name": "stdout",
     "output_type": "stream",
     "text": [
      "0\n",
      "1000\n",
      "2000\n",
      "3000\n",
      "4000\n",
      "5000\n",
      "6000\n",
      "7000\n",
      "8000\n",
      "9000\n"
     ]
    }
   ],
   "source": [
    "test_untouched_predictions = []\n",
    "for index, row in test_images_untouched.iterrows():\n",
    "    test_untouched_predictions.append(classifier(row, means_untouched, stds_untouched, probs_untouched))\n",
    "    if index % 1000 == 0:\n",
    "            print(index)"
   ]
  },
  {
   "cell_type": "code",
   "execution_count": 86,
   "metadata": {},
   "outputs": [
    {
     "name": "stdout",
     "output_type": "stream",
     "text": [
      "0\n",
      "1000\n",
      "2000\n",
      "3000\n",
      "4000\n",
      "5000\n",
      "6000\n",
      "7000\n",
      "8000\n",
      "9000\n"
     ]
    }
   ],
   "source": [
    "test_touched_predictions = []\n",
    "for index, row in test_images_touched.iterrows():\n",
    "    test_touched_predictions.append(classifier(row, means_touched, stds_touched, probs_touched))\n",
    "    if index % 1000 == 0:\n",
    "            print(index)"
   ]
  },
  {
   "cell_type": "code",
   "execution_count": 112,
   "metadata": {},
   "outputs": [
    {
     "name": "stdout",
     "output_type": "stream",
     "text": [
      "train_untouched_accuracy 0.6215\n",
      "train_touched_accuracy 0.823\n"
     ]
    }
   ],
   "source": [
    "untouched_right = 0\n",
    "touched_right = 0\n",
    "for i in range(len(touched_predictions)):\n",
    "    if train_touched_predictions[i] == train_labels[i]:\n",
    "        touched_right += 1\n",
    "    \n",
    "    if train_untouched_predictions[i] == train_labels[i]:\n",
    "        untouched_right += 1\n",
    "\n",
    "train_untouched_accuracy = untouched_right / len(untouched_predictions)\n",
    "train_touched_accuracy = touched_right / len(touched_predictions)\n",
    "print('train_untouched_accuracy', train_untouched_accuracy)\n",
    "print('train_touched_accuracy', train_touched_accuracy)\n"
   ]
  },
  {
   "cell_type": "code",
   "execution_count": 98,
   "metadata": {},
   "outputs": [
    {
     "name": "stdout",
     "output_type": "stream",
     "text": [
      "test_untouched_accuracy 0.6168\n",
      "test_touched_accuracy 0.8287\n"
     ]
    }
   ],
   "source": [
    "untouched_right = 0\n",
    "touched_right = 0\n",
    "for i in range(len(touched_predictions)):\n",
    "    if test_touched_predictions[i] == test_labels[i]:\n",
    "        touched_right += 1\n",
    "    \n",
    "    if test_untouched_predictions[i] == test_labels[i]:\n",
    "        untouched_right += 1\n",
    "\n",
    "test_untouched_accuracy = untouched_right / len(untouched_predictions)\n",
    "test_touched_accuracy = touched_right / len(touched_predictions)\n",
    "print('test_untouched_accuracy', test_untouched_accuracy)\n",
    "print('test_touched_accuracy', test_touched_accuracy)\n"
   ]
  }
 ],
 "metadata": {
  "kernelspec": {
   "display_name": "Python 3",
   "language": "python",
   "name": "python3"
  },
  "language_info": {
   "codemirror_mode": {
    "name": "ipython",
    "version": 3
   },
   "file_extension": ".py",
   "mimetype": "text/x-python",
   "name": "python",
   "nbconvert_exporter": "python",
   "pygments_lexer": "ipython3",
   "version": "3.6.5"
  }
 },
 "nbformat": 4,
 "nbformat_minor": 2
}
