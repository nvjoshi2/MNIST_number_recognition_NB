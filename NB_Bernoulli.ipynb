{
 "cells": [
  {
   "cell_type": "code",
   "execution_count": null,
   "metadata": {},
   "outputs": [],
   "source": [
    "import numpy as np\n",
    "import pandas as pd\n",
    "\n",
    "train_labels = np.load('preprocessed_files/train_labels.npy')\n",
    "test_labels = np.load('preprocessed_files/test_labels.npy')\n",
    "\n",
    "train_images_untouched = pd.read_pickle('preprocessed_files/train_images_untouched.pkl')\n",
    "test_images_untouched = pd.read_pickle('preprocessed_files/test_images_untouched.pkl')\n",
    "\n",
    "train_images_touched = pd.read_pickle('preprocessed_files/train_images_touched.pkl')\n",
    "test_images_touched = pd.read_pickle('preprocessed_files/test_images_touched.pkl')"
   ]
  },
  {
   "cell_type": "code",
   "execution_count": null,
   "metadata": {},
   "outputs": [],
   "source": [
    "def get_probs_labelProbs(df):\n",
    "    dfs = {}\n",
    "    label_probs = []\n",
    "    for i in range(10):\n",
    "            dfs[\"df{0}\".format(i)] = df[train_labels == i]\n",
    "            label_probs.append(len(df[train_labels == i]) / len(df))\n",
    "    probs = []\n",
    "       \n",
    "    for key in dfs:\n",
    "        pixels = list(dfs[key])\n",
    "        pixel_probs = []\n",
    "        for pixel in pixels:\n",
    "            pixel_probs.append(len(dfs[key][dfs[key][pixel] == 255.0]) / len(dfs[key]))\n",
    "        probs.append(pixel_probs)\n",
    "    return probs, label_probs"
   ]
  },
  {
   "cell_type": "code",
   "execution_count": null,
   "metadata": {},
   "outputs": [],
   "source": [
    "touched_probs, touched_label_probs = get_probs_labelProbs(train_images_touched)\n",
    "untouched_probs, untouched_label_probs = get_probs_labelProbs(train_images_untouched)"
   ]
  },
  {
   "cell_type": "code",
   "execution_count": null,
   "metadata": {},
   "outputs": [],
   "source": [
    "def bernoulli(x, prob):\n",
    "    if x == 255.0:\n",
    "        return prob\n",
    "    else:\n",
    "        return 1-prob"
   ]
  },
  {
   "cell_type": "code",
   "execution_count": null,
   "metadata": {},
   "outputs": [],
   "source": [
    "def classifier(x, probs, label_probs):\n",
    "    total_probabilities = np.zeros(10)\n",
    "    for i in range(len(total_probabilities)):\n",
    "        total_probabilities[i] += np.log(label_probs[i])\n",
    "        for j in range(len(x)):\n",
    "            b = bernoulli(x[j], probs[i][j])\n",
    "            if b > 0:\n",
    "                total_probabilities[i] += np.log(b)\n",
    "    return np.argmax(total_probabilities)"
   ]
  },
  {
   "cell_type": "code",
   "execution_count": null,
   "metadata": {
    "scrolled": true
   },
   "outputs": [],
   "source": [
    "train_untouched_predictions = []\n",
    "for index, row in train_images_untouched.iterrows():\n",
    "    train_untouched_predictions.append(classifier(row, untouched_probs, untouched_label_probs))\n",
    "    if index % 1000 == 0:\n",
    "            print(index)"
   ]
  },
  {
   "cell_type": "code",
   "execution_count": null,
   "metadata": {},
   "outputs": [],
   "source": [
    "train_touched_predictions = []\n",
    "for index, row in train_images_touched.iterrows():\n",
    "    train_touched_predictions.append(classifier(row, touched_probs, touched_label_probs))\n",
    "    if index % 1000 == 0:\n",
    "            print(index)"
   ]
  },
  {
   "cell_type": "code",
   "execution_count": null,
   "metadata": {},
   "outputs": [],
   "source": [
    "test_untouched_predictions = []\n",
    "for index, row in test_images_untouched.iterrows():\n",
    "    test_untouched_predictions.append(classifier(row, untouched_probs, untouched_label_probs))\n",
    "    if index % 1000 == 0:\n",
    "            print(index)"
   ]
  },
  {
   "cell_type": "code",
   "execution_count": null,
   "metadata": {},
   "outputs": [],
   "source": [
    "test_touched_predictions = []\n",
    "for index, row in test_images_touched.iterrows():\n",
    "    test_touched_predictions.append(classifier(row, touched_probs, touched_label_probs))\n",
    "    if index % 1000 == 0:\n",
    "            print(index)"
   ]
  },
  {
   "cell_type": "code",
   "execution_count": null,
   "metadata": {},
   "outputs": [],
   "source": [
    "untouched_right = 0\n",
    "touched_right = 0\n",
    "for i in range(len(train_touched_predictions)):\n",
    "    if train_touched_predictions[i] == train_labels[i]:\n",
    "        touched_right += 1\n",
    "    \n",
    "    if train_untouched_predictions[i] == train_labels[i]:\n",
    "        untouched_right += 1\n",
    "\n",
    "train_untouched_accuracy = untouched_right / len(untouched_predictions)\n",
    "train_touched_accuracy = touched_right / len(touched_predictions)\n",
    "print(train_untouched_accuracy)\n",
    "print(train_touched_accuracy)"
   ]
  },
  {
   "cell_type": "code",
   "execution_count": null,
   "metadata": {},
   "outputs": [],
   "source": [
    "untouched_right = 0\n",
    "touched_right = 0\n",
    "for i in range(len(test_touched_predictions)):\n",
    "    if test_touched_predictions[i] == test_labels[i]:\n",
    "        touched_right += 1\n",
    "    \n",
    "    if test_untouched_predictions[i] == test_labels[i]:\n",
    "        untouched_right += 1\n",
    "\n",
    "test_untouched_accuracy = untouched_right / len(untouched_predictions)\n",
    "test_touched_accuracy = touched_right / len(touched_predictions)\n",
    "print(test_untouched_accuracy)\n",
    "print(test_touched_accuracy)"
   ]
  }
 ],
 "metadata": {
  "kernelspec": {
   "display_name": "Python 3",
   "language": "python",
   "name": "python3"
  },
  "language_info": {
   "codemirror_mode": {
    "name": "ipython",
    "version": 3
   },
   "file_extension": ".py",
   "mimetype": "text/x-python",
   "name": "python",
   "nbconvert_exporter": "python",
   "pygments_lexer": "ipython3",
   "version": "3.6.5"
  }
 },
 "nbformat": 4,
 "nbformat_minor": 2
}
